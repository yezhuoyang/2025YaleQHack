{
 "cells": [
  {
   "cell_type": "markdown",
   "id": "e4f77153",
   "metadata": {},
   "source": [
    "# Pauli Hamiltonian System Example (Nothing related to bloqade)"
   ]
  },
  {
   "cell_type": "code",
   "execution_count": 2,
   "id": "1d385850",
   "metadata": {},
   "outputs": [],
   "source": [
    "import numpy as np\n",
    "import matplotlib.pyplot as plt\n",
    "import sys\n",
    "sys.path.append('/Users/harrywanghc/Developer/2025/2025YaleQHack/src/')\n",
    "from PauliHamiltonian import (\n",
    "    PauliOp, PauliTerm, PauliHamiltonian, BloqadeConverter\n",
    ")"
   ]
  },
  {
   "cell_type": "code",
   "execution_count": 3,
   "id": "6f2cdbb7",
   "metadata": {},
   "outputs": [
    {
     "name": "stdout",
     "output_type": "stream",
     "text": [
      "I Matrix:\n",
      "[[1.+0.j 0.+0.j]\n",
      " [0.+0.j 1.+0.j]]\n",
      "\n",
      "X Matrix:\n",
      "[[0.+0.j 1.+0.j]\n",
      " [1.+0.j 0.+0.j]]\n",
      "\n",
      "Y Matrix:\n",
      "[[ 0.+0.j -0.-1.j]\n",
      " [ 0.+1.j  0.+0.j]]\n",
      "\n",
      "Z Matrix:\n",
      "[[ 1.+0.j  0.+0.j]\n",
      " [ 0.+0.j -1.+0.j]]\n",
      "\n"
     ]
    }
   ],
   "source": [
    "# Display the matrix representation of each Pauli operator\n",
    "for op in PauliOp:\n",
    "    print(f\"{op.name} Matrix:\")\n",
    "    print(op.matrix)\n",
    "    print()"
   ]
  },
  {
   "cell_type": "code",
   "execution_count": 4,
   "id": "2d0942e2",
   "metadata": {},
   "outputs": [
    {
     "name": "stdout",
     "output_type": "stream",
     "text": [
      "Hamiltonian: 1.0*X_0 + 0.5*Z_1 + 0.25*Z_0 Z_1\n"
     ]
    }
   ],
   "source": [
    "# Create a simple 2-qubit Hamiltonian\n",
    "h = PauliHamiltonian()\n",
    "\n",
    "# Add X term on qubit 0 with coefficient 1.0\n",
    "h.add_term(PauliTerm(1.0, {0: PauliOp.X}))\n",
    "\n",
    "# Add Z term on qubit 1 with coefficient 0.5\n",
    "h.add_term(PauliTerm(0.5, {1: PauliOp.Z}))\n",
    "\n",
    "# Add ZZ interaction between qubits 0 and 1 with coefficient 0.25\n",
    "h.add_term(PauliTerm(0.25, {0: PauliOp.Z, 1: PauliOp.Z}))\n",
    "\n",
    "print(f\"Hamiltonian: {h}\")"
   ]
  },
  {
   "cell_type": "code",
   "execution_count": 5,
   "id": "bcdda0c3",
   "metadata": {},
   "outputs": [
    {
     "name": "stdout",
     "output_type": "stream",
     "text": [
      "Matrix representation (shape (4, 4)):\n",
      "[[ 0.75+0.j  0.  +0.j  1.  +0.j  0.  +0.j]\n",
      " [ 0.  +0.j -0.75+0.j  0.  +0.j  1.  +0.j]\n",
      " [ 1.  +0.j  0.  +0.j  0.25+0.j  0.  +0.j]\n",
      " [ 0.  +0.j  1.  +0.j  0.  +0.j -0.25+0.j]]\n"
     ]
    }
   ],
   "source": [
    "# Get matrix representation\n",
    "n_qubits = 2\n",
    "matrix = h.to_sparse_matrix(n_qubits)\n",
    "\n",
    "# Convert to dense for display\n",
    "dense_matrix = matrix.toarray()\n",
    "print(f\"Matrix representation (shape {dense_matrix.shape}):\")\n",
    "print(np.round(dense_matrix, 3))"
   ]
  },
  {
   "cell_type": "code",
   "execution_count": 12,
   "id": "b5d07ce0",
   "metadata": {},
   "outputs": [],
   "source": [
    "def isingHamiltonian(n_qubits, j, h):\n",
    "    \"\"\"\n",
    "    Create a transverse field Ising model Hamiltonian:\n",
    "    H = -J ∑ Z_i Z_{i+1} - h ∑ X_i\n",
    "    \n",
    "    Args:\n",
    "        n_qubits: Number of qubits in the system\n",
    "        j: Coupling strength for ZZ interactions (J)\n",
    "        h: Transverse field strength (h)\n",
    "        \n",
    "    Returns:\n",
    "        PauliHamiltonian representing the TFIM\n",
    "    \"\"\"\n",
    "    ham = PauliHamiltonian()\n",
    "    \n",
    "    # Add ZZ interaction terms with periodic boundary conditions\n",
    "    for i in range(n_qubits):\n",
    "        # Calculate the next qubit index with periodic boundary\n",
    "        next_i = (i + 1) % n_qubits\n",
    "        \n",
    "        # Add ZZ interaction term: -J * Z_i * Z_{i+1}\n",
    "        term = PauliTerm(-j, {i: PauliOp.Z, next_i: PauliOp.Z})\n",
    "        ham.add_term(term)\n",
    "    \n",
    "    # Add transverse field (X) terms\n",
    "    for i in range(n_qubits):\n",
    "        # Add X field term: -h * X_i\n",
    "        term = PauliTerm(-h, {i: PauliOp.X})\n",
    "        ham.add_term(term)\n",
    "        \n",
    "    return ham"
   ]
  },
  {
   "cell_type": "code",
   "execution_count": 13,
   "id": "54abd63c",
   "metadata": {},
   "outputs": [
    {
     "name": "stdout",
     "output_type": "stream",
     "text": [
      "TFIM Hamiltonian: -1.0*Z_0 Z_1 + -1.0*Z_1 Z_2 + -1.0*Z_2 Z_3 + -1.0*Z_0 Z_3 + -0.5*X_0 + -0.5*X_1 + -0.5*X_2 + -0.5*X_3\n"
     ]
    }
   ],
   "source": [
    "# Create a Transverse Field Ising Model Hamiltonian\n",
    "n_qubits = 4\n",
    "j_coupling = 1.0  # ZZ interaction strength\n",
    "h_field = 0.5     # X field strength\n",
    "\n",
    "tfim = isingHamiltonian(n_qubits, j_coupling, h_field)\n",
    "print(f\"TFIM Hamiltonian: {tfim}\")\n"
   ]
  }
 ],
 "metadata": {
  "kernelspec": {
   "display_name": "yalehack",
   "language": "python",
   "name": "python3"
  },
  "language_info": {
   "codemirror_mode": {
    "name": "ipython",
    "version": 3
   },
   "file_extension": ".py",
   "mimetype": "text/x-python",
   "name": "python",
   "nbconvert_exporter": "python",
   "pygments_lexer": "ipython3",
   "version": "3.11.11"
  }
 },
 "nbformat": 4,
 "nbformat_minor": 5
}
