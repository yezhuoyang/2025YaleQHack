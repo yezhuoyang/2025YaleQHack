{
 "cells": [
  {
   "cell_type": "code",
   "execution_count": null,
   "id": "1c918845",
   "metadata": {},
   "outputs": [],
   "source": [
    "from bloqade import qasm2\n",
    "import numpy as np\n",
    "from bloqade.pyqrack import PyQrack\n",
    "from collections import Counter\n",
    "from bloqade.qasm2.rewrite.native_gates import RydbergGateSetRewriteRule\n",
    "from kirin import ir\n",
    "from kirin.rewrite import Walk\n",
    "from bloqade.qasm2.passes import UOpToParallel, QASM2Fold\n",
    "\n",
    "import warnings\n",
    "warnings.filterwarnings(\"ignore\")\n",
    "import sys\n",
    "sys.path.append(r'src\\TimeIndepSpinChain')\n",
    "from TimeIndepSpinChain import (\n",
    "    SpinChainLieTrotter, SpinChainSuzukiTrotter\n",
    ")"
   ]
  },
  {
   "cell_type": "markdown",
   "id": "10d1c163",
   "metadata": {},
   "source": [
    "# O(n^2) Trotterization"
   ]
  },
  {
   "cell_type": "code",
   "execution_count": null,
   "id": "2fff94a9",
   "metadata": {},
   "outputs": [],
   "source": [
    "time_interval = 0.5\n",
    "steps = 24\n",
    "N = 2\n",
    "mag_vals = [] \n",
    "\n",
    "for i in range(steps):\n",
    "    kernel_PT = SpinChainLieTrotter(N, time_interval*i, i)\n",
    "    \n",
    "    device = PyQrack(dynamic_qubits=True, pyqrack_options={\"isBinaryDecisionTree\": False})\n",
    "    results = device.multi_run(kernel_PT, _shots=100)\n",
    "    \n",
    "    def to_bitstrings(results):\n",
    "        return Counter(map(lambda result:\"\".join(map(str, result)), results))\n",
    "    \n",
    "    counts = to_bitstrings(results)\n",
    "    \n",
    "    total_magnetization = 0\n",
    "    \n",
    "    for key, value in counts.items():\n",
    "        spin_down = str(key).count('1')\n",
    "        total_magnetization += value*spin_down * (-1) + value*(2**N - spin_down)\n",
    "\n",
    "    print(\"Time \" + str(time_interval*i) + \": \" + str(total_magnetization/100))\n",
    "    mag_vals.append(total_magnetization/100) "
   ]
  },
  {
   "cell_type": "code",
   "execution_count": null,
   "id": "e7b7ba79",
   "metadata": {},
   "outputs": [],
   "source": [
    "plt.figure(figsize=(10, 4))\n",
    "t = np.linspace(0, (steps-1)*time_interval, 48)\n",
    "magnetization = np.array(mag_vals)\n",
    "plt.plot(t, magnetization, marker=\"x\", c=\"darkmagenta\", ls=\"dashed\", lw=0.8)\n",
    "plt.xlabel(\"Time (a.u.)\")\n",
    "plt.ylabel(r\"$\\langle M \\rangle$\")\n",
    "plt.title(\"1D Ising chain magnetization over time on Bloqade (4 qubits, no noise, O(t^2))\") "
   ]
  },
  {
   "cell_type": "markdown",
   "id": "1e9de102",
   "metadata": {},
   "source": [
    "# Better Trotterization"
   ]
  },
  {
   "cell_type": "markdown",
   "id": "0a6ab6be",
   "metadata": {},
   "source": [
    "#### Test on 4 Qubits"
   ]
  },
  {
   "cell_type": "code",
   "execution_count": null,
   "id": "d65c9b7b",
   "metadata": {},
   "outputs": [],
   "source": [
    "time_interval = 0.5\n",
    "steps = 24\n",
    "N = 2\n",
    "mag_vals = [] \n",
    "\n",
    "for i in range(steps):\n",
    "    kernel_PT = SpinChainSuzukiTrotter(N, time_interval*i, i)\n",
    "    \n",
    "    device = PyQrack(dynamic_qubits=True, pyqrack_options={\"isBinaryDecisionTree\": False})\n",
    "    results = device.multi_run(kernel_PT, _shots=100)\n",
    "    \n",
    "    def to_bitstrings(results):\n",
    "        return Counter(map(lambda result:\"\".join(map(str, result)), results))\n",
    "    \n",
    "    counts = to_bitstrings(results)\n",
    "    \n",
    "    total_magnetization = 0\n",
    "    \n",
    "    for key, value in counts.items():\n",
    "        spin_down = str(key).count('1')\n",
    "        total_magnetization += value*spin_down * (-1/2) + value*(2**N - spin_down) * (1/2)\n",
    "\n",
    "    print(\"Time \" + str(time_interval*i) + \": \" + str(total_magnetization/100))\n",
    "    mag_vals.append(total_magnetization/100) "
   ]
  },
  {
   "cell_type": "code",
   "execution_count": null,
   "id": "c3c51cb3",
   "metadata": {},
   "outputs": [],
   "source": [
    "plt.figure(figsize=(10, 4))\n",
    "t = np.linspace(0, (steps-1)*time_interval, 24)\n",
    "magnetization = np.array(mag_vals)\n",
    "plt.plot(t, magnetization, marker=\"x\", c=\"darkmagenta\", ls=\"dashed\", lw=0.8)\n",
    "plt.xlabel(\"Time (a.u.)\")\n",
    "plt.ylabel(r\"$\\langle M \\rangle$\")\n",
    "plt.title(\"1D Ising chain magnetization over time on Bloqade (4 qubits, no noise, O(t^3))\") "
   ]
  },
  {
   "cell_type": "code",
   "execution_count": null,
   "id": "1c2abb56",
   "metadata": {},
   "outputs": [],
   "source": []
  }
 ],
 "metadata": {
  "kernelspec": {
   "display_name": "yalehack",
   "language": "python",
   "name": "python3"
  },
  "language_info": {
   "codemirror_mode": {
    "name": "ipython",
    "version": 3
   },
   "file_extension": ".py",
   "mimetype": "text/x-python",
   "name": "python",
   "nbconvert_exporter": "python",
   "pygments_lexer": "ipython3",
   "version": "3.13.3"
  }
 },
 "nbformat": 4,
 "nbformat_minor": 5
}
