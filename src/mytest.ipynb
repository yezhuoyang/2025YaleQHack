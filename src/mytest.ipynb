{
 "cells": [
  {
   "cell_type": "code",
   "execution_count": null,
   "id": "92e3ccb1",
   "metadata": {},
   "outputs": [],
   "source": [
    "from bloqade import qasm2\n",
    "from bloqade.qasm2.emit import QASM2 # the QASM2 target\n",
    "import math\n",
    "\n",
    "from pyqrack import QrackSimulator\n",
    "from bloqade.pyqrack import PyQrack, reg\n",
    "\n",
    "from bloqade.qasm2.parse import pprint # the QASM2 pretty printer\n",
    "import sys\n",
    "sys.path.append('/Users/harrywanghc/Developer/2025/2025YaleQHack/src/')\n",
    "from PauliHamiltonian import (\n",
    "    PauliOp, PauliTerm, PauliHamiltonian, BloqadeConverter\n",
    ")"
   ]
  },
  {
   "cell_type": "code",
   "execution_count": 2,
   "id": "b3d3ea24",
   "metadata": {},
   "outputs": [
    {
     "name": "stdout",
     "output_type": "stream",
     "text": [
      "Hamiltonian: 1.0*X_0 + 0.5*Z_1 + 0.25*Z_0 Z_1\n"
     ]
    }
   ],
   "source": [
    "h = PauliHamiltonian()\n",
    "\n",
    "# Add X term on qubit 0 with coefficient 1.0\n",
    "h.add_term(PauliTerm(1.0, {0: PauliOp.X}))\n",
    "\n",
    "# Add Z term on qubit 1 with coefficient 0.5\n",
    "h.add_term(PauliTerm(0.5, {1: PauliOp.Z}))\n",
    "\n",
    "# Add ZZ interaction between qubits 0 and 1 with coefficient 0.25\n",
    "h.add_term(PauliTerm(0.25, {0: PauliOp.Z, 1: PauliOp.Z}))\n",
    "\n",
    "print(f\"Hamiltonian: {h}\")"
   ]
  },
  {
   "cell_type": "code",
   "execution_count": 3,
   "id": "776707f3",
   "metadata": {},
   "outputs": [
    {
     "data": {
      "text/plain": [
       "array([[ 0.75+0.j,  0.  +0.j,  1.  +0.j,  0.  +0.j],\n",
       "       [ 0.  +0.j, -0.75+0.j,  0.  +0.j,  1.  +0.j],\n",
       "       [ 1.  +0.j,  0.  +0.j,  0.25+0.j,  0.  +0.j],\n",
       "       [ 0.  +0.j,  1.  +0.j,  0.  +0.j, -0.25+0.j]])"
      ]
     },
     "execution_count": 3,
     "metadata": {},
     "output_type": "execute_result"
    }
   ],
   "source": [
    "h.to_matrix()"
   ]
  },
  {
   "cell_type": "code",
   "execution_count": null,
   "id": "43a441d4",
   "metadata": {},
   "outputs": [],
   "source": [
    "def test_circuit(n_qubits: int):\n",
    "\n",
    "    @qasm2.extended\n",
    "    def test_program():\n",
    "\n",
    "        qreg = qasm2.qreg(n_qubits)\n",
    "        # Apply a Hadamard on the first qubit\n",
    "        qasm2.rx(qreg[0],0.1)\n",
    "        qasm2.ry(qreg[1],0.2)\n",
    "        qasm2.rz(qreg[2],0.3)\n",
    "\n",
    "    return test_program"
   ]
  },
  {
   "cell_type": "code",
   "execution_count": 86,
   "id": "b6a88e67",
   "metadata": {},
   "outputs": [
    {
     "ename": "IndexError",
     "evalue": "range object index out of range",
     "output_type": "error",
     "traceback": [
      "\u001b[31m---------------------------------------------------------------------------\u001b[39m",
      "\u001b[31mIndexError\u001b[39m                                Traceback (most recent call last)",
      "\u001b[36mCell\u001b[39m\u001b[36m \u001b[39m\u001b[32mIn[86]\u001b[39m\u001b[32m, line 2\u001b[39m\n\u001b[32m      1\u001b[39m target = QASM2()\n\u001b[32m----> \u001b[39m\u001b[32m2\u001b[39m ast = \u001b[43mtarget\u001b[49m\u001b[43m.\u001b[49m\u001b[43memit\u001b[49m\u001b[43m(\u001b[49m\u001b[43mtest_circuit\u001b[49m\u001b[43m(\u001b[49m\u001b[32;43m2\u001b[39;49m\u001b[43m)\u001b[49m\u001b[43m)\u001b[49m\n\u001b[32m      3\u001b[39m pprint(ast)\n",
      "\u001b[36mFile \u001b[39m\u001b[32m~/miniconda3/envs/yalehack/lib/python3.11/site-packages/bloqade/qasm2/emit/target.py:95\u001b[39m, in \u001b[36mQASM2.emit\u001b[39m\u001b[34m(self, entry)\u001b[39m\n\u001b[32m     89\u001b[39m QASM2Fold(entry.dialects, inline_gate_subroutine=\u001b[38;5;129;01mnot\u001b[39;00m \u001b[38;5;28mself\u001b[39m.custom_gate).fixpoint(\n\u001b[32m     90\u001b[39m     entry\n\u001b[32m     91\u001b[39m )\n\u001b[32m     93\u001b[39m \u001b[38;5;28;01mif\u001b[39;00m \u001b[38;5;129;01mnot\u001b[39;00m \u001b[38;5;28mself\u001b[39m.allow_global:\n\u001b[32m     94\u001b[39m     \u001b[38;5;66;03m# rewrite global to parallel\u001b[39;00m\n\u001b[32m---> \u001b[39m\u001b[32m95\u001b[39m     \u001b[43mGlobalToParallel\u001b[49m\u001b[43m(\u001b[49m\u001b[43mdialects\u001b[49m\u001b[43m=\u001b[49m\u001b[43mentry\u001b[49m\u001b[43m.\u001b[49m\u001b[43mdialects\u001b[49m\u001b[43m)\u001b[49m\u001b[43m(\u001b[49m\u001b[43mentry\u001b[49m\u001b[43m)\u001b[49m\n\u001b[32m     97\u001b[39m \u001b[38;5;28;01mif\u001b[39;00m \u001b[38;5;129;01mnot\u001b[39;00m \u001b[38;5;28mself\u001b[39m.allow_parallel:\n\u001b[32m     98\u001b[39m     \u001b[38;5;66;03m# rewrite parallel to uop\u001b[39;00m\n\u001b[32m     99\u001b[39m     ParallelToUOp(dialects=entry.dialects)(entry)\n",
      "\u001b[36mFile \u001b[39m\u001b[32m~/miniconda3/envs/yalehack/lib/python3.11/site-packages/kirin/passes/abc.py:29\u001b[39m, in \u001b[36mPass.__call__\u001b[39m\u001b[34m(self, mt)\u001b[39m\n\u001b[32m     28\u001b[39m \u001b[38;5;28;01mdef\u001b[39;00m\u001b[38;5;250m \u001b[39m\u001b[34m__call__\u001b[39m(\u001b[38;5;28mself\u001b[39m, mt: Method) -> RewriteResult:\n\u001b[32m---> \u001b[39m\u001b[32m29\u001b[39m     result = \u001b[38;5;28;43mself\u001b[39;49m\u001b[43m.\u001b[49m\u001b[43munsafe_run\u001b[49m\u001b[43m(\u001b[49m\u001b[43mmt\u001b[49m\u001b[43m)\u001b[49m\n\u001b[32m     30\u001b[39m     mt.code.verify()\n\u001b[32m     31\u001b[39m     \u001b[38;5;28;01mreturn\u001b[39;00m result\n",
      "\u001b[36mFile \u001b[39m\u001b[32m~/miniconda3/envs/yalehack/lib/python3.11/site-packages/bloqade/qasm2/passes/glob.py:109\u001b[39m, in \u001b[36mGlobalToParallel.unsafe_run\u001b[39m\u001b[34m(self, mt)\u001b[39m\n\u001b[32m    108\u001b[39m \u001b[38;5;28;01mdef\u001b[39;00m\u001b[38;5;250m \u001b[39m\u001b[34munsafe_run\u001b[39m(\u001b[38;5;28mself\u001b[39m, mt: ir.Method) -> result.RewriteResult:\n\u001b[32m--> \u001b[39m\u001b[32m109\u001b[39m     rewriter = walk.Walk(\u001b[38;5;28;43mself\u001b[39;49m\u001b[43m.\u001b[49m\u001b[43mgenerate_rule\u001b[49m\u001b[43m(\u001b[49m\u001b[43mmt\u001b[49m\u001b[43m)\u001b[49m)\n\u001b[32m    110\u001b[39m     result = rewriter.rewrite(mt.code)\n\u001b[32m    112\u001b[39m     result = walk.Walk(dce.DeadCodeElimination()).rewrite(mt.code)\n",
      "\u001b[36mFile \u001b[39m\u001b[32m~/miniconda3/envs/yalehack/lib/python3.11/site-packages/bloqade/qasm2/passes/glob.py:105\u001b[39m, in \u001b[36mGlobalToParallel.generate_rule\u001b[39m\u001b[34m(self, mt)\u001b[39m\n\u001b[32m    104\u001b[39m \u001b[38;5;28;01mdef\u001b[39;00m\u001b[38;5;250m \u001b[39m\u001b[34mgenerate_rule\u001b[39m(\u001b[38;5;28mself\u001b[39m, mt: ir.Method) -> GlobalToParallelRule:\n\u001b[32m--> \u001b[39m\u001b[32m105\u001b[39m     frame, _ = \u001b[43maddress\u001b[49m\u001b[43m.\u001b[49m\u001b[43mAddressAnalysis\u001b[49m\u001b[43m(\u001b[49m\u001b[43mmt\u001b[49m\u001b[43m.\u001b[49m\u001b[43mdialects\u001b[49m\u001b[43m)\u001b[49m\u001b[43m.\u001b[49m\u001b[43mrun_analysis\u001b[49m\u001b[43m(\u001b[49m\u001b[43mmt\u001b[49m\u001b[43m)\u001b[49m\n\u001b[32m    106\u001b[39m     \u001b[38;5;28;01mreturn\u001b[39;00m GlobalToParallelRule(frame.entries)\n",
      "\u001b[36mFile \u001b[39m\u001b[32m~/miniconda3/envs/yalehack/lib/python3.11/site-packages/kirin/analysis/forward.py:66\u001b[39m, in \u001b[36mForwardExtra.run_analysis\u001b[39m\u001b[34m(self, method, args, no_raise)\u001b[39m\n\u001b[32m     64\u001b[39m sys.setrecursionlimit(\u001b[38;5;28mself\u001b[39m.max_python_recursion_depth)\n\u001b[32m     65\u001b[39m \u001b[38;5;28;01mtry\u001b[39;00m:\n\u001b[32m---> \u001b[39m\u001b[32m66\u001b[39m     frame, ret = \u001b[38;5;28;43mself\u001b[39;49m\u001b[43m.\u001b[49m\u001b[43mrun_method\u001b[49m\u001b[43m(\u001b[49m\u001b[43mmethod\u001b[49m\u001b[43m,\u001b[49m\u001b[43m \u001b[49m\u001b[43margs\u001b[49m\u001b[43m)\u001b[49m\n\u001b[32m     67\u001b[39m \u001b[38;5;28;01mexcept\u001b[39;00m interp.InterpreterError \u001b[38;5;28;01mas\u001b[39;00m e:\n\u001b[32m     68\u001b[39m     \u001b[38;5;66;03m# NOTE: initialize will create new State\u001b[39;00m\n\u001b[32m     69\u001b[39m     \u001b[38;5;66;03m# so we don't need to copy the frames.\u001b[39;00m\n\u001b[32m     70\u001b[39m     \u001b[38;5;28;01mif\u001b[39;00m \u001b[38;5;129;01mnot\u001b[39;00m no_raise:\n",
      "\u001b[36mFile \u001b[39m\u001b[32m~/miniconda3/envs/yalehack/lib/python3.11/site-packages/bloqade/analysis/address/analysis.py:57\u001b[39m, in \u001b[36mAddressAnalysis.run_method\u001b[39m\u001b[34m(self, method, args)\u001b[39m\n\u001b[32m     55\u001b[39m \u001b[38;5;28;01mdef\u001b[39;00m\u001b[38;5;250m \u001b[39m\u001b[34mrun_method\u001b[39m(\u001b[38;5;28mself\u001b[39m, method: ir.Method, args: \u001b[38;5;28mtuple\u001b[39m[Address, ...]):\n\u001b[32m     56\u001b[39m     \u001b[38;5;66;03m# NOTE: we do not support dynamic calls here, thus no need to propagate method object\u001b[39;00m\n\u001b[32m---> \u001b[39m\u001b[32m57\u001b[39m     \u001b[38;5;28;01mreturn\u001b[39;00m \u001b[38;5;28;43mself\u001b[39;49m\u001b[43m.\u001b[49m\u001b[43mrun_callable\u001b[49m\u001b[43m(\u001b[49m\u001b[43mmethod\u001b[49m\u001b[43m.\u001b[49m\u001b[43mcode\u001b[49m\u001b[43m,\u001b[49m\u001b[43m \u001b[49m\u001b[43m(\u001b[49m\u001b[38;5;28;43mself\u001b[39;49m\u001b[43m.\u001b[49m\u001b[43mlattice\u001b[49m\u001b[43m.\u001b[49m\u001b[43mbottom\u001b[49m\u001b[43m(\u001b[49m\u001b[43m)\u001b[49m\u001b[43m,\u001b[49m\u001b[43m)\u001b[49m\u001b[43m \u001b[49m\u001b[43m+\u001b[49m\u001b[43m \u001b[49m\u001b[43margs\u001b[49m\u001b[43m)\u001b[49m\n",
      "\u001b[36mFile \u001b[39m\u001b[32m~/miniconda3/envs/yalehack/lib/python3.11/site-packages/kirin/interp/base.py:220\u001b[39m, in \u001b[36mBaseInterpreter.run_callable\u001b[39m\u001b[34m(self, code, args)\u001b[39m\n\u001b[32m    218\u001b[39m     \u001b[38;5;28;01mreturn\u001b[39;00m \u001b[38;5;28mself\u001b[39m.state.pop_frame(), \u001b[38;5;28mself\u001b[39m.void\n\u001b[32m    219\u001b[39m frame.set_values(body.blocks[\u001b[32m0\u001b[39m].args, args)\n\u001b[32m--> \u001b[39m\u001b[32m220\u001b[39m results = \u001b[38;5;28;43mself\u001b[39;49m\u001b[43m.\u001b[49m\u001b[43mrun_callable_region\u001b[49m\u001b[43m(\u001b[49m\u001b[43mframe\u001b[49m\u001b[43m,\u001b[49m\u001b[43m \u001b[49m\u001b[43mcode\u001b[49m\u001b[43m,\u001b[49m\u001b[43m \u001b[49m\u001b[43mbody\u001b[49m\u001b[43m)\u001b[49m\n\u001b[32m    221\u001b[39m \u001b[38;5;28;01mreturn\u001b[39;00m \u001b[38;5;28mself\u001b[39m.state.pop_frame(), results\n",
      "\u001b[36mFile \u001b[39m\u001b[32m~/miniconda3/envs/yalehack/lib/python3.11/site-packages/kirin/interp/base.py:234\u001b[39m, in \u001b[36mBaseInterpreter.run_callable_region\u001b[39m\u001b[34m(self, frame, code, region)\u001b[39m\n\u001b[32m    223\u001b[39m \u001b[38;5;28;01mdef\u001b[39;00m\u001b[38;5;250m \u001b[39m\u001b[34mrun_callable_region\u001b[39m(\n\u001b[32m    224\u001b[39m     \u001b[38;5;28mself\u001b[39m, frame: FrameType, code: Statement, region: Region\n\u001b[32m    225\u001b[39m ) -> ValueType:\n\u001b[32m    226\u001b[39m \u001b[38;5;250m    \u001b[39m\u001b[33;03m\"\"\"A hook defines how to run the callable region given\u001b[39;00m\n\u001b[32m    227\u001b[39m \u001b[33;03m    the interpreter context. Frame should be pushed before calling\u001b[39;00m\n\u001b[32m    228\u001b[39m \u001b[33;03m    this method and popped after calling this method.\u001b[39;00m\n\u001b[32m   (...)\u001b[39m\u001b[32m    232\u001b[39m \u001b[33;03m    to be compatible with the Python convention.\u001b[39;00m\n\u001b[32m    233\u001b[39m \u001b[33;03m    \"\"\"\u001b[39;00m\n\u001b[32m--> \u001b[39m\u001b[32m234\u001b[39m     results = \u001b[38;5;28;43mself\u001b[39;49m\u001b[43m.\u001b[49m\u001b[43mrun_ssacfg_region\u001b[49m\u001b[43m(\u001b[49m\u001b[43mframe\u001b[49m\u001b[43m,\u001b[49m\u001b[43m \u001b[49m\u001b[43mregion\u001b[49m\u001b[43m)\u001b[49m\n\u001b[32m    235\u001b[39m     \u001b[38;5;28;01mif\u001b[39;00m \u001b[38;5;28misinstance\u001b[39m(results, ReturnValue):\n\u001b[32m    236\u001b[39m         \u001b[38;5;28;01mreturn\u001b[39;00m results.value\n",
      "\u001b[36mFile \u001b[39m\u001b[32m~/miniconda3/envs/yalehack/lib/python3.11/site-packages/kirin/interp/abstract.py:163\u001b[39m, in \u001b[36mAbstractInterpreter.run_ssacfg_region\u001b[39m\u001b[34m(self, frame, region)\u001b[39m\n\u001b[32m    161\u001b[39m     frame.visited[succ.block] = \u001b[38;5;28mset\u001b[39m()\n\u001b[32m    162\u001b[39m \u001b[38;5;28mself\u001b[39m.prehook_succ(frame, succ)\n\u001b[32m--> \u001b[39m\u001b[32m163\u001b[39m block_result = \u001b[38;5;28;43mself\u001b[39;49m\u001b[43m.\u001b[49m\u001b[43mrun_block\u001b[49m\u001b[43m(\u001b[49m\u001b[43mframe\u001b[49m\u001b[43m,\u001b[49m\u001b[43m \u001b[49m\u001b[43msucc\u001b[49m\u001b[43m)\u001b[49m\n\u001b[32m    164\u001b[39m \u001b[38;5;28;01mif\u001b[39;00m \u001b[38;5;28mlen\u001b[39m(frame.visited[succ.block]) < \u001b[32m128\u001b[39m:\n\u001b[32m    165\u001b[39m     frame.visited[succ.block].add(succ)\n",
      "\u001b[36mFile \u001b[39m\u001b[32m~/miniconda3/envs/yalehack/lib/python3.11/site-packages/kirin/interp/abstract.py:191\u001b[39m, in \u001b[36mAbstractInterpreter.run_block\u001b[39m\u001b[34m(self, frame, succ)\u001b[39m\n\u001b[32m    189\u001b[39m frame.stmt = stmt\n\u001b[32m    190\u001b[39m frame.lino = stmt.source.lineno \u001b[38;5;28;01mif\u001b[39;00m stmt.source \u001b[38;5;28;01melse\u001b[39;00m \u001b[32m0\u001b[39m\n\u001b[32m--> \u001b[39m\u001b[32m191\u001b[39m stmt_results = \u001b[38;5;28;43mself\u001b[39;49m\u001b[43m.\u001b[49m\u001b[43meval_stmt\u001b[49m\u001b[43m(\u001b[49m\u001b[43mframe\u001b[49m\u001b[43m,\u001b[49m\u001b[43m \u001b[49m\u001b[43mstmt\u001b[49m\u001b[43m)\u001b[49m\n\u001b[32m    192\u001b[39m \u001b[38;5;28;01mif\u001b[39;00m \u001b[38;5;28misinstance\u001b[39m(stmt_results, \u001b[38;5;28mtuple\u001b[39m):\n\u001b[32m    193\u001b[39m     \u001b[38;5;28mself\u001b[39m.set_values(frame, stmt._results, stmt_results)\n",
      "\u001b[36mFile \u001b[39m\u001b[32m~/miniconda3/envs/yalehack/lib/python3.11/site-packages/kirin/interp/base.py:335\u001b[39m, in \u001b[36mBaseInterpreter.eval_stmt\u001b[39m\u001b[34m(self, frame, stmt)\u001b[39m\n\u001b[32m    333\u001b[39m method = \u001b[38;5;28mself\u001b[39m.lookup_registry(frame, stmt)\n\u001b[32m    334\u001b[39m \u001b[38;5;28;01mif\u001b[39;00m method \u001b[38;5;129;01mis\u001b[39;00m \u001b[38;5;129;01mnot\u001b[39;00m \u001b[38;5;28;01mNone\u001b[39;00m:\n\u001b[32m--> \u001b[39m\u001b[32m335\u001b[39m     results = \u001b[43mmethod\u001b[49m\u001b[43m(\u001b[49m\u001b[38;5;28;43mself\u001b[39;49m\u001b[43m,\u001b[49m\u001b[43m \u001b[49m\u001b[43mframe\u001b[49m\u001b[43m,\u001b[49m\u001b[43m \u001b[49m\u001b[43mstmt\u001b[49m\u001b[43m)\u001b[49m\n\u001b[32m    336\u001b[39m     \u001b[38;5;28;01mif\u001b[39;00m \u001b[38;5;28mself\u001b[39m.debug \u001b[38;5;129;01mand\u001b[39;00m \u001b[38;5;129;01mnot\u001b[39;00m \u001b[38;5;28misinstance\u001b[39m(results, (\u001b[38;5;28mtuple\u001b[39m, SpecialValue)):\n\u001b[32m    337\u001b[39m         \u001b[38;5;28;01mraise\u001b[39;00m InterpreterError(\n\u001b[32m    338\u001b[39m             \u001b[33mf\u001b[39m\u001b[33m\"\u001b[39m\u001b[33mmethod must return tuple or SpecialResult, got \u001b[39m\u001b[38;5;132;01m{\u001b[39;00mresults\u001b[38;5;132;01m}\u001b[39;00m\u001b[33m\"\u001b[39m\n\u001b[32m    339\u001b[39m         )\n",
      "\u001b[36mFile \u001b[39m\u001b[32m~/miniconda3/envs/yalehack/lib/python3.11/site-packages/kirin/registry.py:19\u001b[39m, in \u001b[36mStatementImpl.__call__\u001b[39m\u001b[34m(self, interp, frame, stmt)\u001b[39m\n\u001b[32m     18\u001b[39m \u001b[38;5;28;01mdef\u001b[39;00m\u001b[38;5;250m \u001b[39m\u001b[34m__call__\u001b[39m(\u001b[38;5;28mself\u001b[39m, interp, frame, stmt: \u001b[33m\"\u001b[39m\u001b[33mStatement\u001b[39m\u001b[33m\"\u001b[39m):\n\u001b[32m---> \u001b[39m\u001b[32m19\u001b[39m     \u001b[38;5;28;01mreturn\u001b[39;00m \u001b[38;5;28;43mself\u001b[39;49m\u001b[43m.\u001b[49m\u001b[43mimpl\u001b[49m\u001b[43m(\u001b[49m\u001b[38;5;28;43mself\u001b[39;49m\u001b[43m.\u001b[49m\u001b[43mparent\u001b[49m\u001b[43m,\u001b[49m\u001b[43m \u001b[49m\u001b[43minterp\u001b[49m\u001b[43m,\u001b[49m\u001b[43m \u001b[49m\u001b[43mframe\u001b[49m\u001b[43m,\u001b[49m\u001b[43m \u001b[49m\u001b[43mstmt\u001b[49m\u001b[43m)\u001b[49m\n",
      "\u001b[36mFile \u001b[39m\u001b[32m~/miniconda3/envs/yalehack/lib/python3.11/site-packages/bloqade/qasm2/dialects/core/address.py:34\u001b[39m, in \u001b[36mAddressMethodTable.get\u001b[39m\u001b[34m(self, interp, frame, stmt)\u001b[39m\n\u001b[32m     32\u001b[39m pos = interp.get_const_value(\u001b[38;5;28mint\u001b[39m, stmt.idx)\n\u001b[32m     33\u001b[39m \u001b[38;5;28;01mif\u001b[39;00m \u001b[38;5;28misinstance\u001b[39m(addr, AddressReg):\n\u001b[32m---> \u001b[39m\u001b[32m34\u001b[39m     global_idx = \u001b[43maddr\u001b[49m\u001b[43m.\u001b[49m\u001b[43mdata\u001b[49m\u001b[43m[\u001b[49m\u001b[43mpos\u001b[49m\u001b[43m]\u001b[49m\n\u001b[32m     35\u001b[39m     \u001b[38;5;28;01mreturn\u001b[39;00m (AddressQubit(global_idx),)\n\u001b[32m     36\u001b[39m \u001b[38;5;28;01melse\u001b[39;00m:  \u001b[38;5;66;03m# this is not reachable\u001b[39;00m\n",
      "\u001b[31mIndexError\u001b[39m: range object index out of range"
     ]
    }
   ],
   "source": [
    "target = QASM2()\n",
    "ast = target.emit(test_circuit(2))\n",
    "pprint(ast)"
   ]
  },
  {
   "cell_type": "code",
   "execution_count": null,
   "id": "bd02fb01",
   "metadata": {},
   "outputs": [
    {
     "ename": "NameError",
     "evalue": "name 'kernel' is not defined",
     "output_type": "error",
     "traceback": [
      "\u001b[31m---------------------------------------------------------------------------\u001b[39m",
      "\u001b[31mNameError\u001b[39m                                 Traceback (most recent call last)",
      "\u001b[36mCell\u001b[39m\u001b[36m \u001b[39m\u001b[32mIn[30]\u001b[39m\u001b[32m, line 5\u001b[39m\n\u001b[32m      2\u001b[39m \u001b[38;5;28;01mfrom\u001b[39;00m\u001b[38;5;250m \u001b[39m\u001b[34;01mcollections\u001b[39;00m\u001b[38;5;250m \u001b[39m\u001b[38;5;28;01mimport\u001b[39;00m Counter\n\u001b[32m      4\u001b[39m device = PyQrack(dynamic_qubits=\u001b[38;5;28;01mTrue\u001b[39;00m, pyqrack_options={\u001b[33m\"\u001b[39m\u001b[33misBinaryDecisionTree\u001b[39m\u001b[33m\"\u001b[39m: \u001b[38;5;28;01mFalse\u001b[39;00m})\n\u001b[32m----> \u001b[39m\u001b[32m5\u001b[39m results = device.multi_run(\u001b[43mkernel\u001b[49m, _shots=\u001b[32m100\u001b[39m)\n\u001b[32m      7\u001b[39m \u001b[38;5;28;01mdef\u001b[39;00m\u001b[38;5;250m \u001b[39m\u001b[34mto_bitstrings\u001b[39m(results):\n\u001b[32m      8\u001b[39m     \u001b[38;5;28;01mreturn\u001b[39;00m Counter(\u001b[38;5;28mmap\u001b[39m(\u001b[38;5;28;01mlambda\u001b[39;00m result:\u001b[33m\"\u001b[39m\u001b[33m\"\u001b[39m.join(\u001b[38;5;28mmap\u001b[39m(\u001b[38;5;28mstr\u001b[39m, result)), results))\n",
      "\u001b[31mNameError\u001b[39m: name 'kernel' is not defined"
     ]
    }
   ],
   "source": [
    "\n",
    "device = PyQrack(dynamic_qubits=True, pyqrack_options={\"isBinaryDecisionTree\": False})\n",
    "results = device.multi_run(kernel, _shots=100)\n",
    "\n",
    "def to_bitstrings(results):\n",
    "    return Counter(map(lambda result:\"\".join(map(str, result)), results))\n",
    "\n",
    "counts = to_bitstrings(results)\n",
    "\n",
    "for key, value in counts.items():\n",
    "    print(key, value)"
   ]
  }
 ],
 "metadata": {
  "kernelspec": {
   "display_name": "yalehack",
   "language": "python",
   "name": "python3"
  },
  "language_info": {
   "codemirror_mode": {
    "name": "ipython",
    "version": 3
   },
   "file_extension": ".py",
   "mimetype": "text/x-python",
   "name": "python",
   "nbconvert_exporter": "python",
   "pygments_lexer": "ipython3",
   "version": "3.11.11"
  }
 },
 "nbformat": 4,
 "nbformat_minor": 5
}
